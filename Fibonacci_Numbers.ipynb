{
 "cells": [
  {
   "cell_type": "code",
   "execution_count": 1,
   "id": "6e1435ea",
   "metadata": {},
   "outputs": [
    {
     "name": "stdout",
     "output_type": "stream",
     "text": [
      "Enter length of Fibonacci series: 7\n",
      "0 1 1 2 3 5 8 "
     ]
    }
   ],
   "source": [
    "#Python program to display fibonacci numbers\n",
    "n = int(input(\"Enter length of Fibonacci series: \"))\n",
    "num1 = 0\n",
    "num2 = 1\n",
    "next_number = 0\n",
    "count = 1 \n",
    "while(count <= n):\n",
    "    print(next_number, end=\" \")\n",
    "    count += 1\n",
    "    num1 = num2\n",
    "    num2 = next_number\n",
    "    next_number = num1 + num2\n",
    "    t_number = num1 + num2"
   ]
  },
  {
   "cell_type": "code",
   "execution_count": null,
   "id": "fb2eedf2",
   "metadata": {},
   "outputs": [],
   "source": []
  }
 ],
 "metadata": {
  "kernelspec": {
   "display_name": "Python 3 (ipykernel)",
   "language": "python",
   "name": "python3"
  },
  "language_info": {
   "codemirror_mode": {
    "name": "ipython",
    "version": 3
   },
   "file_extension": ".py",
   "mimetype": "text/x-python",
   "name": "python",
   "nbconvert_exporter": "python",
   "pygments_lexer": "ipython3",
   "version": "3.9.13"
  }
 },
 "nbformat": 4,
 "nbformat_minor": 5
}
