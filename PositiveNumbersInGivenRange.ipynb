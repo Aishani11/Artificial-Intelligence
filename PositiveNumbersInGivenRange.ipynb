{
 "cells": [
  {
   "cell_type": "code",
   "execution_count": 1,
   "id": "37f26c39",
   "metadata": {},
   "outputs": [
    {
     "name": "stdout",
     "output_type": "stream",
     "text": [
      "Enter the start of range: -5\n",
      "Enter the end of range: 5\n",
      "Output - ['0', '1', '2', '3', '4', '5']\n"
     ]
    }
   ],
   "source": [
    "#Python program to print positive numbers in given range\n",
    "start = int(input(\"Enter the start of range: \"))\n",
    "end = int(input(\"Enter the end of range: \"))\n",
    "nums = []\n",
    "for num in range(start, end + 1):\n",
    "  \n",
    "    if num >= 0:\n",
    "        nums.append(str(num))\n",
    " \n",
    "       # print(num, end=\" \")\n",
    "       \n",
    "print('Output -', nums)"
   ]
  },
  {
   "cell_type": "code",
   "execution_count": null,
   "id": "108030bb",
   "metadata": {},
   "outputs": [],
   "source": []
  }
 ],
 "metadata": {
  "kernelspec": {
   "display_name": "Python 3 (ipykernel)",
   "language": "python",
   "name": "python3"
  },
  "language_info": {
   "codemirror_mode": {
    "name": "ipython",
    "version": 3
   },
   "file_extension": ".py",
   "mimetype": "text/x-python",
   "name": "python",
   "nbconvert_exporter": "python",
   "pygments_lexer": "ipython3",
   "version": "3.9.13"
  }
 },
 "nbformat": 4,
 "nbformat_minor": 5
}
